{
 "cells": [
  {
   "metadata": {},
   "cell_type": "markdown",
   "source": [
    "## 1. 数据集准备\n",
    "### 1.1 数据集采集\n",
    "本次实验采用的数据集为中国八大菜系中的16道知名菜品图片(每个菜系取两种菜品)，使用开源图片下载器(https://github.com/QianyanTech/Image-Downloader)，对于每个菜品，下载500张图片，其中由于链接失效等因素，实际下载总数少于500张，数据集总数为5806张。\n",
    "### 1.2 数据集初步标注\n",
    "对于16个类别中的每个类别，使用makesense.ai工具每个标注25张图片（共400张图片），然后在YOLOv8s预训练模型基础上，训练一个初步的检测模型。\n",
    "### 1.3 数据集自动标注\n",
    "使用初步训练的标注模型，自动标注剩下的5406张图片。\n",
    "### 1.4 自动标注结果清洗\n",
    "使用Python脚本，根据Label编号和标注文件的文件名，替换其中错误识别的类别。\n",
    "然后，使用makesense.ai二次检查，每个类别人工校准75张图片，即每个类别都有100张正确标注的图片。\n",
    "此时，将这1600张图片和标注数据送入YOLOv8s预训练模型，训练一个检测能力较强的模型。\n",
    "### 1.5 数据集二次自动标注\n",
    "对于每个类别剩下的标注不精确的图片，使用二阶段训练的模型自动标注，此时检测结果已经相当准确，基本不需要太多人工修改。\n",
    "### 1.6 数据集二次人工修正\n",
    "对于每个类别的标注不准确的图片，使用makesense.ai工具人工修正，最终形成数据集共有5793张有效标注图片。"
   ],
   "id": "b5640cfc9328581e"
  },
  {
   "metadata": {},
   "cell_type": "markdown",
   "source": [
    "## 2.数据集导入\n",
    "### 2.1 读取文件"
   ],
   "id": "e24cd1bb9d2a65cc"
  },
  {
   "metadata": {},
   "cell_type": "code",
   "outputs": [],
   "execution_count": null,
   "source": "import ultralytics",
   "id": "82c19fecc15c5d13"
  }
 ],
 "metadata": {
  "kernelspec": {
   "display_name": "Python 3",
   "language": "python",
   "name": "python3"
  },
  "language_info": {
   "codemirror_mode": {
    "name": "ipython",
    "version": 2
   },
   "file_extension": ".py",
   "mimetype": "text/x-python",
   "name": "python",
   "nbconvert_exporter": "python",
   "pygments_lexer": "ipython2",
   "version": "2.7.6"
  }
 },
 "nbformat": 4,
 "nbformat_minor": 5
}
